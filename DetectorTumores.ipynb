{
  "cells": [
    {
      "cell_type": "code",
      "source": [
        "from google.colab import drive\n",
        "drive.mount('/content/drive')"
      ],
      "metadata": {
        "colab": {
          "base_uri": "https://localhost:8080/"
        },
        "id": "n_cH30UwVfMY",
        "outputId": "f91e98d7-c3b5-4205-ce59-5ab932ff2c8e"
      },
      "execution_count": null,
      "outputs": [
        {
          "output_type": "stream",
          "name": "stdout",
          "text": [
            "Mounted at /content/drive\n"
          ]
        }
      ]
    },
    {
      "cell_type": "code",
      "execution_count": null,
      "metadata": {
        "id": "e-y14_gccoko",
        "outputId": "a2bdf6c3-b202-4354-a119-6f2a7a30c105"
      },
      "outputs": [
        {
          "name": "stderr",
          "output_type": "stream",
          "text": [
            "c:\\Users\\AMD\\AppData\\Local\\Programs\\Python\\Python39\\lib\\site-packages\\scipy\\__init__.py:155: UserWarning: A NumPy version >=1.18.5 and <1.25.0 is required for this version of SciPy (detected version 1.26.1\n",
            "  warnings.warn(f\"A NumPy version >={np_minversion} and <{np_maxversion}\"\n"
          ]
        }
      ],
      "source": [
        "from tensorflow import keras\n",
        "\n",
        "base_model = keras.applications.VGG16(\n",
        "    weights='imagenet',\n",
        "    input_shape=(224, 224, 3),\n",
        "    include_top=False)"
      ]
    },
    {
      "cell_type": "code",
      "execution_count": null,
      "metadata": {
        "id": "WrAFzqekcokt"
      },
      "outputs": [],
      "source": [
        "# Freeze base model\n",
        "base_model.trainable = False"
      ]
    },
    {
      "cell_type": "code",
      "execution_count": null,
      "metadata": {
        "id": "JUkuFS9hcoku"
      },
      "outputs": [],
      "source": [
        "# Create inputs with correct shape\n",
        "inputs = keras.Input(shape=(224, 224, 3))\n",
        "\n",
        "x = base_model(inputs, training=False)\n",
        "\n",
        "# Add pooling layer or flatten layer\n",
        "x = keras.layers.GlobalAveragePooling2D()(x)\n",
        "\n",
        "# Add final dense layer\n",
        "outputs = keras.layers.Dense(4, activation = 'softmax')(x)\n",
        "\n",
        "# Combine inputs and outputs to create model\n",
        "model = keras.Model(inputs, outputs)"
      ]
    },
    {
      "cell_type": "code",
      "execution_count": null,
      "metadata": {
        "id": "i38MdFIacokv",
        "outputId": "dcd6763f-57bc-4998-960a-862416efa533"
      },
      "outputs": [
        {
          "name": "stdout",
          "output_type": "stream",
          "text": [
            "Model: \"model\"\n",
            "_________________________________________________________________\n",
            " Layer (type)                Output Shape              Param #   \n",
            "=================================================================\n",
            " input_2 (InputLayer)        [(None, 224, 224, 3)]     0         \n",
            "                                                                 \n",
            " vgg16 (Functional)          (None, 7, 7, 512)         14714688  \n",
            "                                                                 \n",
            " global_average_pooling2d (  (None, 512)               0         \n",
            " GlobalAveragePooling2D)                                         \n",
            "                                                                 \n",
            " dense (Dense)               (None, 4)                 2052      \n",
            "                                                                 \n",
            "=================================================================\n",
            "Total params: 14716740 (56.14 MB)\n",
            "Trainable params: 2052 (8.02 KB)\n",
            "Non-trainable params: 14714688 (56.13 MB)\n",
            "_________________________________________________________________\n"
          ]
        }
      ],
      "source": [
        "model.summary()"
      ]
    },
    {
      "cell_type": "code",
      "execution_count": null,
      "metadata": {
        "id": "MQzynHEpcokw",
        "outputId": "58ecf10a-161d-43db-fb7b-1ce753105575"
      },
      "outputs": [
        {
          "name": "stdout",
          "output_type": "stream",
          "text": [
            "Model: \"model_1\"\n",
            "_________________________________________________________________\n",
            " Layer (type)                Output Shape              Param #   \n",
            "=================================================================\n",
            " input_2 (InputLayer)        [(None, 224, 224, 3)]     0         \n",
            "                                                                 \n",
            " vgg16 (Functional)          (None, 7, 7, 512)         14714688  \n",
            "                                                                 \n",
            " global_average_pooling2d (  (None, 512)               0         \n",
            " GlobalAveragePooling2D)                                         \n",
            "                                                                 \n",
            " dense (Dense)               (None, 4)                 2052      \n",
            "                                                                 \n",
            "=================================================================\n",
            "Total params: 14716740 (56.14 MB)\n",
            "Trainable params: 2052 (8.02 KB)\n",
            "Non-trainable params: 14714688 (56.13 MB)\n",
            "_________________________________________________________________\n"
          ]
        }
      ],
      "source": [
        "model = keras.Model(inputs, outputs)\n",
        "model.summary()\n",
        "model.compile(loss = keras.losses.CategoricalCrossentropy(from_logits=True) , metrics = [keras.metrics.CategoricalAccuracy()])"
      ]
    },
    {
      "cell_type": "code",
      "execution_count": null,
      "metadata": {
        "id": "aUtDpssncokw"
      },
      "outputs": [],
      "source": [
        "from tensorflow.keras.preprocessing.image import ImageDataGenerator\n",
        "\n",
        "datagen_train = ImageDataGenerator(\n",
        "    samplewise_center=True,  # set each sample mean to 0\n",
        "    rotation_range=10,  # randomly rotate images in the range (degrees, 0 to 180)\n",
        "    zoom_range=0.1,  # Randomly zoom image\n",
        "    width_shift_range=0.1,  # randomly shift images horizontally (fraction of total width)\n",
        "    height_shift_range=0.1,  # randomly shift images vertically (fraction of total height)\n",
        "    horizontal_flip=True,  # randomly flip images\n",
        "    vertical_flip=False,)\n",
        "datagen_valid = ImageDataGenerator(samplewise_center=True)"
      ]
    },
    {
      "cell_type": "code",
      "execution_count": null,
      "metadata": {
        "id": "-JGGtCq-cokx",
        "outputId": "d1b045d5-1df2-4ef4-a63c-8efb75cc0d2b"
      },
      "outputs": [
        {
          "name": "stdout",
          "output_type": "stream",
          "text": [
            "Found 2383 images belonging to 4 classes.\n",
            "Found 713 images belonging to 4 classes.\n"
          ]
        }
      ],
      "source": [
        "# load and iterate training dataset\n",
        "train_it = datagen_train.flow_from_directory(\n",
        "    \"C:\\\\Users\\\\AMD\\\\OneDrive\\\\Área de Trabalho\\\\PYTHON\\\\Detecção de Tumores Cerebrais por IA\\\\archive\\\\Data\\\\train\",\n",
        "    target_size=(224, 224),\n",
        "    color_mode=\"rgb\",\n",
        "    class_mode=\"categorical\",\n",
        ")\n",
        "# load and iterate validation dataset\n",
        "valid_it = datagen_valid.flow_from_directory(\n",
        "    \"C:\\\\Users\\\\AMD\\\\OneDrive\\\\Área de Trabalho\\\\PYTHON\\\\Detecção de Tumores Cerebrais por IA\\\\archive\\\\Data\\\\test\",\n",
        "    target_size=(224, 224),\n",
        "    color_mode=\"rgb\",\n",
        "    class_mode=\"categorical\",\n",
        ")"
      ]
    },
    {
      "cell_type": "code",
      "execution_count": null,
      "metadata": {
        "id": "IjSGeTw7coky",
        "outputId": "c5867e45-fa41-4895-e96f-04598b0a6c26"
      },
      "outputs": [
        {
          "name": "stdout",
          "output_type": "stream",
          "text": [
            "Epoch 1/20\n"
          ]
        },
        {
          "name": "stderr",
          "output_type": "stream",
          "text": [
            "c:\\Users\\AMD\\AppData\\Local\\Programs\\Python\\Python39\\lib\\site-packages\\keras\\src\\backend.py:5577: UserWarning: \"`categorical_crossentropy` received `from_logits=True`, but the `output` argument was produced by a Softmax activation and thus does not represent logits. Was this intended?\n",
            "  output, from_logits = _get_logits(\n"
          ]
        },
        {
          "name": "stdout",
          "output_type": "stream",
          "text": [
            "74/74 [==============================] - 624s 8s/step - loss: 1.8839 - categorical_accuracy: 0.4222 - val_loss: 1.6107 - val_categorical_accuracy: 0.5049\n",
            "Epoch 2/20\n",
            "74/74 [==============================] - 618s 8s/step - loss: 0.9647 - categorical_accuracy: 0.6504 - val_loss: 1.0086 - val_categorical_accuracy: 0.6662\n",
            "Epoch 3/20\n",
            "74/74 [==============================] - 656s 9s/step - loss: 0.7446 - categorical_accuracy: 0.7268 - val_loss: 0.9696 - val_categorical_accuracy: 0.6872\n",
            "Epoch 4/20\n",
            "74/74 [==============================] - 650s 9s/step - loss: 0.6497 - categorical_accuracy: 0.7768 - val_loss: 0.8185 - val_categorical_accuracy: 0.7167\n",
            "Epoch 5/20\n",
            "74/74 [==============================] - 643s 9s/step - loss: 0.6016 - categorical_accuracy: 0.7809 - val_loss: 0.7261 - val_categorical_accuracy: 0.7405\n",
            "Epoch 6/20\n",
            "74/74 [==============================] - 637s 9s/step - loss: 0.5542 - categorical_accuracy: 0.8011 - val_loss: 0.7592 - val_categorical_accuracy: 0.7293\n",
            "Epoch 7/20\n",
            "74/74 [==============================] - 628s 8s/step - loss: 0.5175 - categorical_accuracy: 0.8204 - val_loss: 0.7520 - val_categorical_accuracy: 0.7265\n",
            "Epoch 8/20\n",
            "74/74 [==============================] - 622s 8s/step - loss: 0.4834 - categorical_accuracy: 0.8267 - val_loss: 0.6846 - val_categorical_accuracy: 0.7419\n",
            "Epoch 9/20\n",
            "74/74 [==============================] - 633s 9s/step - loss: 0.4620 - categorical_accuracy: 0.8246 - val_loss: 0.6366 - val_categorical_accuracy: 0.7644\n",
            "Epoch 10/20\n",
            "74/74 [==============================] - 630s 8s/step - loss: 0.4565 - categorical_accuracy: 0.8376 - val_loss: 0.7615 - val_categorical_accuracy: 0.7419\n",
            "Epoch 11/20\n",
            "74/74 [==============================] - 624s 8s/step - loss: 0.4310 - categorical_accuracy: 0.8426 - val_loss: 0.6989 - val_categorical_accuracy: 0.7433\n",
            "Epoch 12/20\n",
            "74/74 [==============================] - 5369s 73s/step - loss: 0.4245 - categorical_accuracy: 0.8363 - val_loss: 0.6270 - val_categorical_accuracy: 0.7672\n",
            "Epoch 13/20\n",
            "74/74 [==============================] - 623s 8s/step - loss: 0.3955 - categorical_accuracy: 0.8565 - val_loss: 0.5852 - val_categorical_accuracy: 0.7854\n",
            "Epoch 14/20\n",
            "74/74 [==============================] - 630s 8s/step - loss: 0.4044 - categorical_accuracy: 0.8477 - val_loss: 0.6542 - val_categorical_accuracy: 0.7728\n",
            "Epoch 15/20\n",
            "74/74 [==============================] - 618s 8s/step - loss: 0.3864 - categorical_accuracy: 0.8506 - val_loss: 0.6655 - val_categorical_accuracy: 0.7532\n",
            "Epoch 16/20\n",
            "74/74 [==============================] - 623s 8s/step - loss: 0.3933 - categorical_accuracy: 0.8531 - val_loss: 0.7260 - val_categorical_accuracy: 0.7433\n",
            "Epoch 17/20\n",
            "74/74 [==============================] - 623s 8s/step - loss: 0.3555 - categorical_accuracy: 0.8590 - val_loss: 0.5954 - val_categorical_accuracy: 0.7770\n",
            "Epoch 18/20\n",
            "74/74 [==============================] - 614s 8s/step - loss: 0.3776 - categorical_accuracy: 0.8611 - val_loss: 0.5448 - val_categorical_accuracy: 0.7994\n",
            "Epoch 19/20\n",
            "74/74 [==============================] - 673s 9s/step - loss: 0.3599 - categorical_accuracy: 0.8603 - val_loss: 0.5643 - val_categorical_accuracy: 0.8036\n",
            "Epoch 20/20\n",
            "74/74 [==============================] - 626s 8s/step - loss: 0.3373 - categorical_accuracy: 0.8775 - val_loss: 0.6837 - val_categorical_accuracy: 0.7812\n"
          ]
        },
        {
          "data": {
            "text/plain": [
              "<keras.src.callbacks.History at 0x2b0d5ca6fd0>"
            ]
          },
          "execution_count": 10,
          "metadata": {},
          "output_type": "execute_result"
        }
      ],
      "source": [
        "model.fit(train_it,\n",
        "          validation_data=valid_it,\n",
        "          steps_per_epoch=train_it.samples/train_it.batch_size,\n",
        "          validation_steps=valid_it.samples/valid_it.batch_size,\n",
        "          epochs=20)"
      ]
    },
    {
      "cell_type": "code",
      "execution_count": null,
      "metadata": {
        "id": "Y_Wedl3Mcokz"
      },
      "outputs": [],
      "source": [
        "# Unfreeze the base model\n",
        "base_model.trainable = True\n",
        "\n",
        "# Compile the model with a low learning rate\n",
        "model.compile(optimizer=keras.optimizers.RMSprop(learning_rate = .00001),  # Very low learning rate\n",
        "              loss=keras.losses.BinaryCrossentropy(from_logits=True),\n",
        "              metrics=[keras.metrics.BinaryAccuracy()])"
      ]
    },
    {
      "cell_type": "code",
      "execution_count": null,
      "metadata": {
        "id": "BTCVNv2Gcokz",
        "outputId": "93d99191-edd6-4b1b-f36e-bdd1db043a13"
      },
      "outputs": [
        {
          "name": "stdout",
          "output_type": "stream",
          "text": [
            "Epoch 1/10\n",
            "37/37 [==============================] - 839s 23s/step - loss: 0.2459 - binary_accuracy: 0.9198 - val_loss: 0.1873 - val_binary_accuracy: 0.9375\n",
            "Epoch 2/10\n",
            "37/37 [==============================] - 829s 22s/step - loss: 0.2062 - binary_accuracy: 0.9348 - val_loss: 0.2486 - val_binary_accuracy: 0.9082\n",
            "Epoch 3/10\n",
            "37/37 [==============================] - 818s 22s/step - loss: 0.1781 - binary_accuracy: 0.9514 - val_loss: 0.2181 - val_binary_accuracy: 0.9160\n",
            "Epoch 4/10\n",
            "37/37 [==============================] - 823s 22s/step - loss: 0.1513 - binary_accuracy: 0.9544 - val_loss: 0.1449 - val_binary_accuracy: 0.9375\n",
            "Epoch 5/10\n",
            "37/37 [==============================] - 828s 22s/step - loss: 0.1323 - binary_accuracy: 0.9611 - val_loss: 0.3823 - val_binary_accuracy: 0.8887\n",
            "Epoch 6/10\n",
            "37/37 [==============================] - 818s 22s/step - loss: 0.1237 - binary_accuracy: 0.9674 - val_loss: 0.1386 - val_binary_accuracy: 0.9590\n",
            "Epoch 7/10\n",
            "37/37 [==============================] - 821s 23s/step - loss: 0.1044 - binary_accuracy: 0.9698 - val_loss: 0.3554 - val_binary_accuracy: 0.8867\n",
            "Epoch 8/10\n",
            "37/37 [==============================] - 866s 23s/step - loss: 0.0983 - binary_accuracy: 0.9709 - val_loss: 0.1187 - val_binary_accuracy: 0.9609\n",
            "Epoch 9/10\n",
            "37/37 [==============================] - 900s 24s/step - loss: 0.0833 - binary_accuracy: 0.9761 - val_loss: 0.1342 - val_binary_accuracy: 0.9590\n",
            "Epoch 10/10\n",
            "37/37 [==============================] - 887s 24s/step - loss: 0.0804 - binary_accuracy: 0.9809 - val_loss: 0.1474 - val_binary_accuracy: 0.9414\n"
          ]
        },
        {
          "data": {
            "text/plain": [
              "<keras.src.callbacks.History at 0x2b086b26940>"
            ]
          },
          "execution_count": 13,
          "metadata": {},
          "output_type": "execute_result"
        }
      ],
      "source": [
        "model.fit(train_it, steps_per_epoch=37, validation_data=valid_it, validation_steps=4, epochs=10)"
      ]
    },
    {
      "cell_type": "code",
      "execution_count": null,
      "metadata": {
        "id": "D2E3Mjnucok0",
        "outputId": "9da8e799-bd8b-40a3-ecd9-5f62f65d26ef"
      },
      "outputs": [
        {
          "name": "stdout",
          "output_type": "stream",
          "text": [
            "22/22 [==============================] - 149s 7s/step - loss: 0.1523 - binary_accuracy: 0.9520\n"
          ]
        },
        {
          "data": {
            "text/plain": [
              "[0.15228371322155, 0.9519635438919067]"
            ]
          },
          "execution_count": 14,
          "metadata": {},
          "output_type": "execute_result"
        }
      ],
      "source": [
        "model.evaluate(valid_it, steps=valid_it.samples/valid_it.batch_size)"
      ]
    },
    {
      "cell_type": "code",
      "execution_count": null,
      "metadata": {
        "id": "vGzzjlNecok0",
        "outputId": "549f0c17-7f0b-464e-a0dc-ef862bcb5ed3"
      },
      "outputs": [
        {
          "name": "stdout",
          "output_type": "stream",
          "text": [
            "INFO:tensorflow:Assets written to: C:\\Users\\AMD\\OneDrive\\assets\n"
          ]
        },
        {
          "name": "stderr",
          "output_type": "stream",
          "text": [
            "INFO:tensorflow:Assets written to: C:\\Users\\AMD\\OneDrive\\assets\n"
          ]
        }
      ],
      "source": [
        "import os\n",
        "\n",
        "# Caminho absoluto para o diretório de salvamento\n",
        "save_dir = os.path.abspath('C:/Users/AMD/OneDrive')\n",
        "\n",
        "# Crie o diretório se ele não existir\n",
        "if not os.path.exists(save_dir):\n",
        "    os.mkdir(save_dir)\n",
        "\n",
        "# Salve o modelo no caminho absoluto\n",
        "model.save(save_dir)\n"
      ]
    }
  ],
  "metadata": {
    "kernelspec": {
      "display_name": "Python 3",
      "language": "python",
      "name": "python3"
    },
    "language_info": {
      "codemirror_mode": {
        "name": "ipython",
        "version": 3
      },
      "file_extension": ".py",
      "mimetype": "text/x-python",
      "name": "python",
      "nbconvert_exporter": "python",
      "pygments_lexer": "ipython3",
      "version": "3.9.6"
    },
    "colab": {
      "provenance": [],
      "toc_visible": true
    }
  },
  "nbformat": 4,
  "nbformat_minor": 0
}